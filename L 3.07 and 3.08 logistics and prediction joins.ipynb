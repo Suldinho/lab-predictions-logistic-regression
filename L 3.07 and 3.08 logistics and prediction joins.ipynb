{
 "cells": [
  {
   "cell_type": "code",
   "execution_count": 1,
   "id": "3fe8c0be",
   "metadata": {},
   "outputs": [
    {
     "name": "stdout",
     "output_type": "stream",
     "text": [
      "········\n"
     ]
    }
   ],
   "source": [
    "import pymysql\n",
    "from sqlalchemy import create_engine\n",
    "import pandas as pd\n",
    "import getpass  # To get the password without showing the input\n",
    "password = getpass.getpass()\n"
   ]
  },
  {
   "cell_type": "code",
   "execution_count": 4,
   "id": "a6064f97",
   "metadata": {},
   "outputs": [],
   "source": [
    "type(engine)\n"
   ]
  },
  {
   "cell_type": "code",
   "execution_count": 5,
   "id": "6742b640",
   "metadata": {},
   "outputs": [
    {
     "data": {
      "text/html": [
       "<div>\n",
       "<style scoped>\n",
       "    .dataframe tbody tr th:only-of-type {\n",
       "        vertical-align: middle;\n",
       "    }\n",
       "\n",
       "    .dataframe tbody tr th {\n",
       "        vertical-align: top;\n",
       "    }\n",
       "\n",
       "    .dataframe thead th {\n",
       "        text-align: right;\n",
       "    }\n",
       "</style>\n",
       "<table border=\"1\" class=\"dataframe\">\n",
       "  <thead>\n",
       "    <tr style=\"text-align: right;\">\n",
       "      <th></th>\n",
       "      <th>title</th>\n",
       "      <th>max_release_year</th>\n",
       "      <th>language_id</th>\n",
       "      <th>rental_duration</th>\n",
       "      <th>rental_rate</th>\n",
       "      <th>length</th>\n",
       "      <th>rating</th>\n",
       "      <th>last_update</th>\n",
       "      <th>rented_in_may</th>\n",
       "    </tr>\n",
       "  </thead>\n",
       "  <tbody>\n",
       "    <tr>\n",
       "      <th>0</th>\n",
       "      <td>ACADEMY DINOSAUR</td>\n",
       "      <td>2006</td>\n",
       "      <td>1</td>\n",
       "      <td>6</td>\n",
       "      <td>0.99</td>\n",
       "      <td>86</td>\n",
       "      <td>PG</td>\n",
       "      <td>2006-02-15 05:03:42</td>\n",
       "      <td>1</td>\n",
       "    </tr>\n",
       "    <tr>\n",
       "      <th>1</th>\n",
       "      <td>ACE GOLDFINGER</td>\n",
       "      <td>2006</td>\n",
       "      <td>1</td>\n",
       "      <td>3</td>\n",
       "      <td>4.99</td>\n",
       "      <td>48</td>\n",
       "      <td>G</td>\n",
       "      <td>2006-02-15 05:03:42</td>\n",
       "      <td>0</td>\n",
       "    </tr>\n",
       "    <tr>\n",
       "      <th>2</th>\n",
       "      <td>ADAPTATION HOLES</td>\n",
       "      <td>2006</td>\n",
       "      <td>1</td>\n",
       "      <td>7</td>\n",
       "      <td>2.99</td>\n",
       "      <td>50</td>\n",
       "      <td>NC-17</td>\n",
       "      <td>2006-02-15 05:03:42</td>\n",
       "      <td>1</td>\n",
       "    </tr>\n",
       "    <tr>\n",
       "      <th>3</th>\n",
       "      <td>AFFAIR PREJUDICE</td>\n",
       "      <td>2006</td>\n",
       "      <td>1</td>\n",
       "      <td>5</td>\n",
       "      <td>2.99</td>\n",
       "      <td>117</td>\n",
       "      <td>G</td>\n",
       "      <td>2006-02-15 05:03:42</td>\n",
       "      <td>1</td>\n",
       "    </tr>\n",
       "    <tr>\n",
       "      <th>4</th>\n",
       "      <td>AFRICAN EGG</td>\n",
       "      <td>2006</td>\n",
       "      <td>1</td>\n",
       "      <td>6</td>\n",
       "      <td>2.99</td>\n",
       "      <td>130</td>\n",
       "      <td>G</td>\n",
       "      <td>2006-02-15 05:03:42</td>\n",
       "      <td>1</td>\n",
       "    </tr>\n",
       "    <tr>\n",
       "      <th>...</th>\n",
       "      <td>...</td>\n",
       "      <td>...</td>\n",
       "      <td>...</td>\n",
       "      <td>...</td>\n",
       "      <td>...</td>\n",
       "      <td>...</td>\n",
       "      <td>...</td>\n",
       "      <td>...</td>\n",
       "      <td>...</td>\n",
       "    </tr>\n",
       "    <tr>\n",
       "      <th>995</th>\n",
       "      <td>YOUNG LANGUAGE</td>\n",
       "      <td>2006</td>\n",
       "      <td>1</td>\n",
       "      <td>6</td>\n",
       "      <td>0.99</td>\n",
       "      <td>183</td>\n",
       "      <td>G</td>\n",
       "      <td>2006-02-15 05:03:42</td>\n",
       "      <td>0</td>\n",
       "    </tr>\n",
       "    <tr>\n",
       "      <th>996</th>\n",
       "      <td>YOUTH KICK</td>\n",
       "      <td>2006</td>\n",
       "      <td>1</td>\n",
       "      <td>4</td>\n",
       "      <td>0.99</td>\n",
       "      <td>179</td>\n",
       "      <td>NC-17</td>\n",
       "      <td>2006-02-15 05:03:42</td>\n",
       "      <td>0</td>\n",
       "    </tr>\n",
       "    <tr>\n",
       "      <th>997</th>\n",
       "      <td>ZHIVAGO CORE</td>\n",
       "      <td>2006</td>\n",
       "      <td>1</td>\n",
       "      <td>6</td>\n",
       "      <td>0.99</td>\n",
       "      <td>105</td>\n",
       "      <td>NC-17</td>\n",
       "      <td>2006-02-15 05:03:42</td>\n",
       "      <td>1</td>\n",
       "    </tr>\n",
       "    <tr>\n",
       "      <th>998</th>\n",
       "      <td>ZOOLANDER FICTION</td>\n",
       "      <td>2006</td>\n",
       "      <td>1</td>\n",
       "      <td>5</td>\n",
       "      <td>2.99</td>\n",
       "      <td>101</td>\n",
       "      <td>R</td>\n",
       "      <td>2006-02-15 05:03:42</td>\n",
       "      <td>1</td>\n",
       "    </tr>\n",
       "    <tr>\n",
       "      <th>999</th>\n",
       "      <td>ZORRO ARK</td>\n",
       "      <td>2006</td>\n",
       "      <td>1</td>\n",
       "      <td>3</td>\n",
       "      <td>4.99</td>\n",
       "      <td>50</td>\n",
       "      <td>NC-17</td>\n",
       "      <td>2006-02-15 05:03:42</td>\n",
       "      <td>1</td>\n",
       "    </tr>\n",
       "  </tbody>\n",
       "</table>\n",
       "<p>1000 rows × 9 columns</p>\n",
       "</div>"
      ],
      "text/plain": [
       "                 title  max_release_year  language_id  rental_duration  \\\n",
       "0     ACADEMY DINOSAUR              2006            1                6   \n",
       "1       ACE GOLDFINGER              2006            1                3   \n",
       "2     ADAPTATION HOLES              2006            1                7   \n",
       "3     AFFAIR PREJUDICE              2006            1                5   \n",
       "4          AFRICAN EGG              2006            1                6   \n",
       "..                 ...               ...          ...              ...   \n",
       "995     YOUNG LANGUAGE              2006            1                6   \n",
       "996         YOUTH KICK              2006            1                4   \n",
       "997       ZHIVAGO CORE              2006            1                6   \n",
       "998  ZOOLANDER FICTION              2006            1                5   \n",
       "999          ZORRO ARK              2006            1                3   \n",
       "\n",
       "     rental_rate  length rating         last_update  rented_in_may  \n",
       "0           0.99      86     PG 2006-02-15 05:03:42              1  \n",
       "1           4.99      48      G 2006-02-15 05:03:42              0  \n",
       "2           2.99      50  NC-17 2006-02-15 05:03:42              1  \n",
       "3           2.99     117      G 2006-02-15 05:03:42              1  \n",
       "4           2.99     130      G 2006-02-15 05:03:42              1  \n",
       "..           ...     ...    ...                 ...            ...  \n",
       "995         0.99     183      G 2006-02-15 05:03:42              0  \n",
       "996         0.99     179  NC-17 2006-02-15 05:03:42              0  \n",
       "997         0.99     105  NC-17 2006-02-15 05:03:42              1  \n",
       "998         2.99     101      R 2006-02-15 05:03:42              1  \n",
       "999         4.99      50  NC-17 2006-02-15 05:03:42              1  \n",
       "\n",
       "[1000 rows x 9 columns]"
      ]
     },
     "execution_count": 5,
     "metadata": {},
     "output_type": "execute_result"
    }
   ],
   "source": [
    "#3Read the data into a Pandas dataframe. At this point you should have 1000 rows. Number of columns depends on the number of features you chose.\n",
    "\n",
    "connection_string = 'mysql+pymysql://root:' + password + '@localhost/sakila'\n",
    "engine = create_engine(connection_string)\n",
    "query = '''SELECT\n",
    "    f.title,\n",
    "    MAX(f.release_year) AS max_release_year,\n",
    "    f.language_id,\n",
    "    f.rental_duration,\n",
    "    f.rental_rate,\n",
    "    f.length,\n",
    "    f.rating,\n",
    "    f.last_update,\n",
    "    MAX(IF(MONTH(r.rental_date) = 5 AND YEAR(r.rental_date) = 2005, 1, 0)) AS rented_in_may\n",
    "FROM\n",
    "    film AS f\n",
    "LEFT JOIN\n",
    "    inventory AS i ON f.film_id = i.film_id\n",
    "LEFT JOIN\n",
    "    rental AS r ON i.inventory_id = r.inventory_id\n",
    "GROUP BY\n",
    "    f.title, f.language_id, f.rental_duration, f.rental_rate, f.length, f.rating, f.last_update;'''\n",
    "data = pd.read_sql_query(query, engine)\n",
    "data.head(1000)\n"
   ]
  },
  {
   "cell_type": "code",
   "execution_count": 6,
   "id": "11993b09",
   "metadata": {},
   "outputs": [
    {
     "data": {
      "text/plain": [
       "title               0\n",
       "max_release_year    0\n",
       "language_id         0\n",
       "rental_duration     0\n",
       "rental_rate         0\n",
       "length              0\n",
       "rating              0\n",
       "last_update         0\n",
       "rented_in_may       0\n",
       "dtype: int64"
      ]
     },
     "execution_count": 6,
     "metadata": {},
     "output_type": "execute_result"
    }
   ],
   "source": [
    "data.isna().sum()"
   ]
  },
  {
   "cell_type": "code",
   "execution_count": 8,
   "id": "d1839047",
   "metadata": {},
   "outputs": [],
   "source": [
    "data['amount'] = data['amount'].fillna(3.99)"
   ]
  },
  {
   "cell_type": "code",
   "execution_count": 9,
   "id": "f2829b09",
   "metadata": {},
   "outputs": [
    {
     "data": {
      "text/plain": [
       "title               0\n",
       "max_release_year    0\n",
       "language_id         0\n",
       "rental_duration     0\n",
       "rental_rate         0\n",
       "length              0\n",
       "rating              0\n",
       "last_update         0\n",
       "rented_in_may       0\n",
       "dtype: int64"
      ]
     },
     "execution_count": 9,
     "metadata": {},
     "output_type": "execute_result"
    }
   ],
   "source": [
    "data.isna().sum()"
   ]
  },
  {
   "cell_type": "code",
   "execution_count": 10,
   "id": "5eecc4a2",
   "metadata": {},
   "outputs": [
    {
     "data": {
      "text/plain": [
       "title                       object\n",
       "max_release_year             int64\n",
       "language_id                  int64\n",
       "rental_duration              int64\n",
       "rental_rate                float64\n",
       "length                       int64\n",
       "rating                      object\n",
       "last_update         datetime64[ns]\n",
       "rented_in_may                int64\n",
       "dtype: object"
      ]
     },
     "execution_count": 10,
     "metadata": {},
     "output_type": "execute_result"
    }
   ],
   "source": [
    "data.dtypes"
   ]
  },
  {
   "cell_type": "code",
   "execution_count": null,
   "id": "dddb2c7f",
   "metadata": {},
   "outputs": [],
   "source": [
    "#4Analyze extracted features (X) and transform them. You may need to encode some categorical variables, or scale numerical variables.\n",
    "\n"
   ]
  },
  {
   "cell_type": "code",
   "execution_count": 11,
   "id": "6e856caf",
   "metadata": {},
   "outputs": [
    {
     "ename": "NameError",
     "evalue": "name 'X_train' is not defined",
     "output_type": "error",
     "traceback": [
      "\u001b[1;31m---------------------------------------------------------------------------\u001b[0m",
      "\u001b[1;31mNameError\u001b[0m                                 Traceback (most recent call last)",
      "\u001b[1;32m~\\AppData\\Local\\Temp\\ipykernel_9312\\2333962365.py\u001b[0m in \u001b[0;36m<module>\u001b[1;34m\u001b[0m\n\u001b[0;32m      3\u001b[0m \u001b[1;31m# from sklearn.preprocessing import StandardScaler\u001b[0m\u001b[1;33m\u001b[0m\u001b[1;33m\u001b[0m\u001b[0m\n\u001b[0;32m      4\u001b[0m \u001b[1;33m\u001b[0m\u001b[0m\n\u001b[1;32m----> 5\u001b[1;33m \u001b[0mX_train_num\u001b[0m \u001b[1;33m=\u001b[0m \u001b[0mX_train\u001b[0m\u001b[1;33m.\u001b[0m\u001b[0mselect_dtypes\u001b[0m\u001b[1;33m(\u001b[0m\u001b[0minclude\u001b[0m \u001b[1;33m=\u001b[0m \u001b[0mnp\u001b[0m\u001b[1;33m.\u001b[0m\u001b[0mnumber\u001b[0m\u001b[1;33m)\u001b[0m\u001b[1;33m\u001b[0m\u001b[1;33m\u001b[0m\u001b[0m\n\u001b[0m\u001b[0;32m      6\u001b[0m \u001b[0mX_train_num\u001b[0m\u001b[1;33m\u001b[0m\u001b[1;33m\u001b[0m\u001b[0m\n\u001b[0;32m      7\u001b[0m \u001b[1;33m\u001b[0m\u001b[0m\n",
      "\u001b[1;31mNameError\u001b[0m: name 'X_train' is not defined"
     ]
    }
   ],
   "source": [
    "# import numpy as np\n",
    "# from sklearn.preprocessing import MinMaxScaler\n",
    "# # from sklearn.preprocessing import StandardScaler\n",
    "\n",
    "# X_train_num = X_train.select_dtypes(include = np.number)\n",
    "# X_train_num\n",
    "\n",
    "# # Scaling data\n",
    "# transformer = MinMaxScaler().fit(X_train_num) # need to keep transformer\n",
    "# X_train_normalized = transformer.transform(X_train_num)\n",
    "# X_train_norm = pd.DataFrame(X_train_normalized, columns=X_num.columns)\n",
    "# X_train_norm.head()"
   ]
  },
  {
   "cell_type": "code",
   "execution_count": null,
   "id": "b85fba86",
   "metadata": {},
   "outputs": [],
   "source": [
    "#5Create a logistic regression model to predict 'rented_in_may' from the cleaned data.\n",
    "#Evaluate the results.\n"
   ]
  },
  {
   "cell_type": "code",
   "execution_count": null,
   "id": "0b144e70",
   "metadata": {},
   "outputs": [],
   "source": []
  },
  {
   "cell_type": "code",
   "execution_count": null,
   "id": "dbbb30ae",
   "metadata": {},
   "outputs": [],
   "source": []
  },
  {
   "cell_type": "code",
   "execution_count": null,
   "id": "f68b2c81",
   "metadata": {},
   "outputs": [],
   "source": []
  }
 ],
 "metadata": {
  "kernelspec": {
   "display_name": "Python 3 (ipykernel)",
   "language": "python",
   "name": "python3"
  },
  "language_info": {
   "codemirror_mode": {
    "name": "ipython",
    "version": 3
   },
   "file_extension": ".py",
   "mimetype": "text/x-python",
   "name": "python",
   "nbconvert_exporter": "python",
   "pygments_lexer": "ipython3",
   "version": "3.9.13"
  }
 },
 "nbformat": 4,
 "nbformat_minor": 5
}
